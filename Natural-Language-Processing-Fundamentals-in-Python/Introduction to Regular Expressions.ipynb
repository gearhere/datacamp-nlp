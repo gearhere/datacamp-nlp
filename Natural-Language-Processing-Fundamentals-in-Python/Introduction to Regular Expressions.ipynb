{
 "cells": [
  {
   "cell_type": "markdown",
   "metadata": {
    "toc": true
   },
   "source": [
    "<h1>Table of Contents<span class=\"tocSkip\"></span></h1>\n",
    "<div class=\"toc\"><ul class=\"toc-item\"><li><span><a href=\"#Common-Regex-Patterns\" data-toc-modified-id=\"Common-Regex-Patterns-1\"><span class=\"toc-item-num\">1&nbsp;&nbsp;</span>Common Regex Patterns</a></span></li><li><span><a href=\"#Introduction-to-Tokenization\" data-toc-modified-id=\"Introduction-to-Tokenization-2\"><span class=\"toc-item-num\">2&nbsp;&nbsp;</span>Introduction to Tokenization</a></span></li><li><span><a href=\"#Regex-ranges-and-groups\" data-toc-modified-id=\"Regex-ranges-and-groups-3\"><span class=\"toc-item-num\">3&nbsp;&nbsp;</span>Regex ranges and groups</a></span></li><li><span><a href=\"#Charting-word-length-with-NLTK\" data-toc-modified-id=\"Charting-word-length-with-NLTK-4\"><span class=\"toc-item-num\">4&nbsp;&nbsp;</span>Charting word length with NLTK</a></span></li></ul></div>"
   ]
  },
  {
   "cell_type": "markdown",
   "metadata": {},
   "source": [
    "## Common Regex Patterns"
   ]
  },
  {
   "cell_type": "markdown",
   "metadata": {},
   "source": [
    "|pattern|matches|example|\n",
    "|:-------:|:-------:|:-------:|\n",
    "|\\w+|word|Magic|\n",
    "|\\d|digit|9|\n",
    "|\\s|space|' '|\n",
    "|.\\*|wildcard|'username 74'|\n",
    "|+ or \\*|greedy match|'aaaaa'|\n",
    "|\\S|**not** space|'not_spaces'|\n",
    "|[a-z]|lowercase group|'abcdefg'|"
   ]
  },
  {
   "cell_type": "code",
   "execution_count": 1,
   "metadata": {
    "collapsed": true
   },
   "outputs": [],
   "source": [
    "import re"
   ]
  },
  {
   "cell_type": "code",
   "execution_count": 12,
   "metadata": {
    "collapsed": true
   },
   "outputs": [],
   "source": [
    "string_1 = \"I love you 3 thousand times from the 1st time.\"\n",
    "word_regex= '\\w+'"
   ]
  },
  {
   "cell_type": "code",
   "execution_count": 13,
   "metadata": {},
   "outputs": [
    {
     "data": {
      "text/plain": [
       "['I', 'love', 'you', '3', 'thousand', 'times', 'from', 'the', '1st', 'time']"
      ]
     },
     "execution_count": 13,
     "metadata": {},
     "output_type": "execute_result"
    }
   ],
   "source": [
    "re.findall(word_regex, string_1)"
   ]
  },
  {
   "cell_type": "code",
   "execution_count": 18,
   "metadata": {},
   "outputs": [
    {
     "data": {
      "text/plain": [
       "['I love you 3 thousand ', 's from the 1st ', '.']"
      ]
     },
     "execution_count": 18,
     "metadata": {},
     "output_type": "execute_result"
    }
   ],
   "source": [
    "re.split('time', string_1)"
   ]
  },
  {
   "cell_type": "markdown",
   "metadata": {},
   "source": [
    "## Introduction to Tokenization"
   ]
  },
  {
   "cell_type": "markdown",
   "metadata": {},
   "source": [
    "- Turning a string or document into tokens(smaller chunks)\n",
    "- One step in preparing a text for NLP\n",
    "- Many different theories and rules\n",
    "- You can create your own rules using reqular expressions\n",
    "\n",
    "Some examples:\n",
    "1. Breaking out words or sentences\n",
    "2. Separating punctuation\n",
    "3. a Separating all hashtags in a tweet"
   ]
  },
  {
   "cell_type": "markdown",
   "metadata": {},
   "source": [
    "**NLTK**\n",
    "\n",
    "```\n",
    "word_toknize\n",
    "sent tokenize\n",
    "regexp_tokenize\n",
    "TweetTokenizer           token＝TweetTokenizer().tokenize(sentence)\n",
    "```\n",
    "\n",
    "in nltk_tokenize() pass the pattern as the second argument"
   ]
  },
  {
   "cell_type": "markdown",
   "metadata": {},
   "source": [
    "**Why tokenize?**\n",
    "- Easier to map part of speech\n",
    "- Matching common words\n",
    "- Removing unwanted tokens"
   ]
  },
  {
   "cell_type": "code",
   "execution_count": null,
   "metadata": {
    "collapsed": true
   },
   "outputs": [],
   "source": [
    "# re.search\n",
    "# re. match"
   ]
  },
  {
   "cell_type": "code",
   "execution_count": 21,
   "metadata": {},
   "outputs": [
    {
     "name": "stdout",
     "output_type": "stream",
     "text": [
      "umji\n",
      "0\n",
      "4\n",
      "(0, 4)\n",
      "<class 'str'>\n"
     ]
    }
   ],
   "source": [
    "a = r\"umji\"\n",
    "match = re.search(a, \"umji isbest umji inworld\")\n",
    "if match:\n",
    "    print(match.group())\n",
    "    print(match.start())\n",
    "    print(match.end())\n",
    "    print(match.span())\n",
    "    print(type(match.group()))"
   ]
  },
  {
   "cell_type": "markdown",
   "metadata": {},
   "source": [
    "## Regex ranges and groups"
   ]
  },
  {
   "cell_type": "markdown",
   "metadata": {},
   "source": [
    "|pattern|matches|example|\n",
    "|:--------:|:--------:|:--------:|\n",
    "|[A-Za-z+]|upper and lowercase English alphabet|'ABCDEFghijk'|\n",
    "|[0-9]|numbers from o to|9|\n",
    "|[A-La-Z\\-\\.]|upper and lowercase English alphabet, - and .|'My-Website.com'|\n",
    "|(a-z)|a,- and z|'a-z'|\n",
    "|(\\s+pipe character,)|spaces or a comma|','|"
   ]
  },
  {
   "cell_type": "markdown",
   "metadata": {},
   "source": [
    "## Charting word length with NLTK"
   ]
  },
  {
   "cell_type": "markdown",
   "metadata": {},
   "source": [
    "histogram"
   ]
  }
 ],
 "metadata": {
  "kernelspec": {
   "display_name": "Python 3",
   "language": "python",
   "name": "python3"
  },
  "language_info": {
   "codemirror_mode": {
    "name": "ipython",
    "version": 3
   },
   "file_extension": ".py",
   "mimetype": "text/x-python",
   "name": "python",
   "nbconvert_exporter": "python",
   "pygments_lexer": "ipython3",
   "version": "3.5.2"
  },
  "toc": {
   "base_numbering": 1,
   "nav_menu": {},
   "number_sections": true,
   "sideBar": true,
   "skip_h1_title": false,
   "title_cell": "Table of Contents",
   "title_sidebar": "Contents",
   "toc_cell": true,
   "toc_position": {},
   "toc_section_display": true,
   "toc_window_display": false
  }
 },
 "nbformat": 4,
 "nbformat_minor": 2
}
