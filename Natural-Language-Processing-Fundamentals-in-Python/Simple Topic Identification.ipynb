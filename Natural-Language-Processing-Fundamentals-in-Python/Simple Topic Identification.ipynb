{
 "cells": [
  {
   "cell_type": "markdown",
   "metadata": {
    "toc": true
   },
   "source": [
    "<h1>Table of Contents<span class=\"tocSkip\"></span></h1>\n",
    "<div class=\"toc\"><ul class=\"toc-item\"><li><span><a href=\"#Word-Counts-with-Bag-of-Words\" data-toc-modified-id=\"Word-Counts-with-Bag-of-Words-1\"><span class=\"toc-item-num\">1&nbsp;&nbsp;</span>Word Counts with Bag-of-Words</a></span></li><li><span><a href=\"#Simple-Text-Preprocessing\" data-toc-modified-id=\"Simple-Text-Preprocessing-2\"><span class=\"toc-item-num\">2&nbsp;&nbsp;</span>Simple Text Preprocessing</a></span></li><li><span><a href=\"#Introduction-to-Gensim\" data-toc-modified-id=\"Introduction-to-Gensim-3\"><span class=\"toc-item-num\">3&nbsp;&nbsp;</span>Introduction to Gensim</a></span><ul class=\"toc-item\"><li><span><a href=\"#Creating-a-Gensim-Dictionary\" data-toc-modified-id=\"Creating-a-Gensim-Dictionary-3.1\"><span class=\"toc-item-num\">3.1&nbsp;&nbsp;</span>Creating a Gensim Dictionary</a></span></li></ul></li><li><span><a href=\"#Tf-idf-with-Gensim\" data-toc-modified-id=\"Tf-idf-with-Gensim-4\"><span class=\"toc-item-num\">4&nbsp;&nbsp;</span>Tf-idf with Gensim</a></span></li></ul></div>"
   ]
  },
  {
   "cell_type": "markdown",
   "metadata": {},
   "source": [
    "## Word Counts with Bag-of-Words"
   ]
  },
  {
   "cell_type": "markdown",
   "metadata": {},
   "source": [
    "```\n",
    "Counter()\n",
    "counter.most_common()\n",
    "```"
   ]
  },
  {
   "cell_type": "code",
   "execution_count": 27,
   "metadata": {
    "collapsed": true
   },
   "outputs": [],
   "source": [
    "string = \"I love cats and my CAT 喵喵 is chased by my lovely dog and another cat.\""
   ]
  },
  {
   "cell_type": "code",
   "execution_count": 21,
   "metadata": {
    "collapsed": true
   },
   "outputs": [],
   "source": [
    "from nltk import word_tokenize\n",
    "from nltk.corpus import stopwords\n",
    "from collections import Counter\n",
    "from matplotlib import pyplot as plt"
   ]
  },
  {
   "cell_type": "code",
   "execution_count": 28,
   "metadata": {},
   "outputs": [
    {
     "name": "stdout",
     "output_type": "stream",
     "text": [
      "['i', 'love', 'cats', 'and', 'my', 'cat', '喵喵', 'is', 'chased', 'by', 'my', 'lovely', 'dog', 'and', 'another', 'cat', '.']\n"
     ]
    }
   ],
   "source": [
    "tokens = word_tokenize(string.lower())\n",
    "print(tokens)"
   ]
  },
  {
   "cell_type": "code",
   "execution_count": 29,
   "metadata": {
    "scrolled": true
   },
   "outputs": [
    {
     "name": "stdout",
     "output_type": "stream",
     "text": [
      "['i', 'love', 'cats', 'and', 'my', 'cat', '喵喵', 'is', 'chased', 'by', 'my', 'lovely', 'dog', 'and', 'another', 'cat']\n"
     ]
    }
   ],
   "source": [
    "tokens = [token for token in tokens if token.isalpha()]\n",
    "print(tokens)"
   ]
  },
  {
   "cell_type": "code",
   "execution_count": 30,
   "metadata": {},
   "outputs": [
    {
     "name": "stdout",
     "output_type": "stream",
     "text": [
      "['love', 'cats', 'cat', '喵喵', 'chased', 'lovely', 'dog', 'another', 'cat']\n"
     ]
    }
   ],
   "source": [
    "no_stop = [t for t in tokens if t not in stopwords.words('english')]\n",
    "print(no_stop)"
   ]
  },
  {
   "cell_type": "code",
   "execution_count": 31,
   "metadata": {
    "collapsed": true
   },
   "outputs": [],
   "source": [
    "count = Counter(no_stop)"
   ]
  },
  {
   "cell_type": "code",
   "execution_count": 32,
   "metadata": {},
   "outputs": [
    {
     "data": {
      "text/plain": [
       "[('cat', 2), ('cats', 1), ('dog', 1)]"
      ]
     },
     "execution_count": 32,
     "metadata": {},
     "output_type": "execute_result"
    }
   ],
   "source": [
    "Counter.most_common(count, 3)"
   ]
  },
  {
   "cell_type": "markdown",
   "metadata": {},
   "source": [
    "## Simple Text Preprocessing"
   ]
  },
  {
   "cell_type": "markdown",
   "metadata": {},
   "source": [
    "![preprocessing](img/preprocessing.png)\n",
    "\n",
    "https://blog.csdn.net/lt326030434/article/details/85240591"
   ]
  },
  {
   "cell_type": "code",
   "execution_count": 2,
   "metadata": {
    "collapsed": true
   },
   "outputs": [],
   "source": [
    "from nltk.stem import WordNetLemmatizer"
   ]
  },
  {
   "cell_type": "code",
   "execution_count": 33,
   "metadata": {},
   "outputs": [
    {
     "name": "stdout",
     "output_type": "stream",
     "text": [
      "['i', 'love', 'cat', 'and', 'my', 'cat', '喵喵', 'is', 'chased', 'by', 'my', 'lovely', 'dog', 'and', 'another', 'cat']\n"
     ]
    }
   ],
   "source": [
    "lemmatizer = WordNetLemmatizer()\n",
    "lemmatized = [lemmatizer.lemmatize(t) for t in tokens]\n",
    "print(lemmatized)"
   ]
  },
  {
   "cell_type": "markdown",
   "metadata": {},
   "source": [
    "## Introduction to Gensim"
   ]
  },
  {
   "cell_type": "markdown",
   "metadata": {},
   "source": [
    "**Popular open-source NLP library**\n",
    "\n",
    "Uses top academic models to perform complex tasks:\n",
    "\n",
    "- Building document or word vectors\n",
    "\n",
    "- Performing topic identification and document comparison\n",
    "\n",
    "> Gensim是一款开源的第三方Python工具包，用于从原始的**非结构化**的文本中，**无监督**地学习到文本隐层的主题向量表达。它支持包括TF-IDF，LSA，LDA，和word2vec在内的多种主题模型算法。"
   ]
  },
  {
   "cell_type": "markdown",
   "metadata": {},
   "source": [
    "sparse features (lot of zeros and some ones)\n",
    "\n",
    "**Word vectors** are multi-dimensional mathematical representations of words created using deep learning methods. They give us insight into relationships between words in a corpus.\n",
    "\n",
    "LDA"
   ]
  },
  {
   "cell_type": "markdown",
   "metadata": {},
   "source": [
    "### Creating a Gensim Dictionary"
   ]
  },
  {
   "cell_type": "code",
   "execution_count": 34,
   "metadata": {
    "collapsed": true
   },
   "outputs": [],
   "source": [
    "from gensim.corpora.dictionary import Dictionary"
   ]
  },
  {
   "cell_type": "code",
   "execution_count": 43,
   "metadata": {
    "collapsed": true
   },
   "outputs": [],
   "source": [
    " my_documents = ['The movie was about a spaceship and aliens.',\n",
    "                 'I really liked the movie!',\n",
    "                 'Awesome action scenes, but boring characters.',\n",
    "                 'The movie was awful! I hate alien films.',\n",
    "                 'Space is cool! I liked the movie.',\n",
    "                 'More space films, please!',]\n",
    "\n",
    "tokenized_docs = [word_tokenize(doc.lower()) for doc in my_documents]"
   ]
  },
  {
   "cell_type": "code",
   "execution_count": 125,
   "metadata": {},
   "outputs": [
    {
     "name": "stdout",
     "output_type": "stream",
     "text": [
      "Dictionary(29 unique tokens: ['.', 'liked', 'but', 'awesome', 'boring']...)\n"
     ]
    }
   ],
   "source": [
    "dictionary = Dictionary(tokenized_docs)\n",
    "print(dictionary)"
   ]
  },
  {
   "cell_type": "code",
   "execution_count": 54,
   "metadata": {},
   "outputs": [
    {
     "name": "stdout",
     "output_type": "stream",
     "text": [
      "22\n",
      "films\n"
     ]
    },
    {
     "data": {
      "text/plain": [
       "{'!': 9,\n",
       " ',': 13,\n",
       " '.': 0,\n",
       " 'a': 1,\n",
       " 'about': 2,\n",
       " 'action': 14,\n",
       " 'alien': 20,\n",
       " 'aliens': 3,\n",
       " 'and': 4,\n",
       " 'awesome': 15,\n",
       " 'awful': 21,\n",
       " 'boring': 16,\n",
       " 'but': 17,\n",
       " 'characters': 18,\n",
       " 'cool': 24,\n",
       " 'films': 22,\n",
       " 'hate': 23,\n",
       " 'i': 10,\n",
       " 'is': 25,\n",
       " 'liked': 11,\n",
       " 'more': 27,\n",
       " 'movie': 5,\n",
       " 'please': 28,\n",
       " 'really': 12,\n",
       " 'scenes': 19,\n",
       " 'space': 26,\n",
       " 'spaceship': 6,\n",
       " 'the': 7,\n",
       " 'was': 8}"
      ]
     },
     "execution_count": 54,
     "metadata": {},
     "output_type": "execute_result"
    }
   ],
   "source": [
    "# select the id for 'films'\n",
    "film_id = dictionary.token2id.get('films')\n",
    "\n",
    "print(film_id)\n",
    "\n",
    "# use token_id with the dictionary to print the word\n",
    "print(dictionary.get(film_id))\n",
    "\n",
    "dictionary.token2id"
   ]
  },
  {
   "cell_type": "code",
   "execution_count": 44,
   "metadata": {
    "scrolled": true
   },
   "outputs": [
    {
     "data": {
      "text/plain": [
       "[[(0, 1), (1, 1), (2, 1), (3, 1), (4, 1), (5, 1), (6, 1), (7, 1), (8, 1)],\n",
       " [(5, 1), (7, 1), (9, 1), (10, 1), (11, 1), (12, 1)],\n",
       " [(0, 1), (13, 1), (14, 1), (15, 1), (16, 1), (17, 1), (18, 1), (19, 1)],\n",
       " [(0, 1),\n",
       "  (5, 1),\n",
       "  (7, 1),\n",
       "  (8, 1),\n",
       "  (9, 1),\n",
       "  (10, 1),\n",
       "  (20, 1),\n",
       "  (21, 1),\n",
       "  (22, 1),\n",
       "  (23, 1)],\n",
       " [(0, 1), (5, 1), (7, 1), (9, 1), (10, 1), (11, 1), (24, 1), (25, 1), (26, 1)],\n",
       " [(9, 1), (13, 1), (22, 1), (26, 1), (27, 1), (28, 1)]]"
      ]
     },
     "execution_count": 44,
     "metadata": {},
     "output_type": "execute_result"
    }
   ],
   "source": [
    "corpus = [dictionary.doc2bow(doc) for doc in tokenized_docs]\n",
    "corpus                                      # 1st number in the tuple refers to the token_id, 2nd is the frequency in the document"
   ]
  },
  {
   "cell_type": "markdown",
   "metadata": {},
   "source": [
    "`collection.defaultdict`\n",
    "\n",
    "[itertools常用方法](https://www.jianshu.com/p/52992ca06ada)"
   ]
  },
  {
   "cell_type": "code",
   "execution_count": 57,
   "metadata": {
    "collapsed": true
   },
   "outputs": [],
   "source": [
    "import itertools\n",
    "from collections import defaultdict"
   ]
  },
  {
   "cell_type": "code",
   "execution_count": 104,
   "metadata": {
    "scrolled": true
   },
   "outputs": [
    {
     "name": "stdout",
     "output_type": "stream",
     "text": [
      "[(0, 1), (5, 1), (7, 1), (9, 1), (10, 1), (11, 1), (24, 1), (25, 1), (26, 1)]\n",
      "\n",
      "\n",
      ". 1\n",
      "movie 1\n",
      "the 1\n",
      "! 1\n",
      "i 1\n",
      "\n",
      "\n",
      ". 4\n",
      "movie 4\n",
      "the 4\n",
      "! 4\n",
      "i 3\n"
     ]
    }
   ],
   "source": [
    "# Save the fifth document: doc\n",
    "doc = corpus[4]\n",
    "print(doc)\n",
    "print(\"\\n\")\n",
    "\n",
    "# Sort the doc for frequency: bow_doc\n",
    "bow_doc = sorted(doc, key=lambda w: w[1], reverse=True)\n",
    "\n",
    "# Print the top 5 words of the document alongside the count\n",
    "for word_id, word_count in bow_doc[:5]:\n",
    "    print(dictionary.get(word_id), word_count)\n",
    "    \n",
    "print(\"\\n\")\n",
    "    \n",
    "# Create the defaultdict: total_word_count\n",
    "total_word_count = defaultdict(int)\n",
    "for word_id, word_count in itertools.chain.from_iterable(corpus):\n",
    "    total_word_count[word_id] += word_count\n",
    "\n",
    "# Create a sorted list from the defaultdict: sorted_word_count\n",
    "sorted_word_count = sorted(total_word_count.items(), key=lambda w: w[1], reverse=True) \n",
    "\n",
    "# Print the top 5 words across all documents alongside the count\n",
    "for word_id, word_count in sorted_word_count[:5]:\n",
    "    print(dictionary.get(word_id), word_count)"
   ]
  },
  {
   "cell_type": "markdown",
   "metadata": {},
   "source": [
    "**下面两段简单的代码帮助理解上面defaultdict相关的一连串处理：**"
   ]
  },
  {
   "cell_type": "code",
   "execution_count": 107,
   "metadata": {},
   "outputs": [
    {
     "name": "stdout",
     "output_type": "stream",
     "text": [
      "a\n",
      "c\n",
      "b\n"
     ]
    },
    {
     "data": {
      "text/plain": [
       "defaultdict(int, {'a': 1, 'b': 2, 'c': 2})"
      ]
     },
     "execution_count": 107,
     "metadata": {},
     "output_type": "execute_result"
    }
   ],
   "source": [
    "dic = {\"a\":1, \"b\":2, \"c\":3, \"a\":1, \"c\":2,}\n",
    "sec = defaultdict(int)\n",
    "for name, id in dic.items():\n",
    "    print(name)                 # 此处不能打印出重复的key，复习一下字典的遍历\n",
    "#     print(sec[name])\n",
    "    sec[name] += id\n",
    "    \n",
    "sec"
   ]
  },
  {
   "cell_type": "code",
   "execution_count": 101,
   "metadata": {},
   "outputs": [
    {
     "data": {
      "text/plain": [
       "defaultdict(int, {0: 4, 1: 3, 2: 1})"
      ]
     },
     "execution_count": 101,
     "metadata": {},
     "output_type": "execute_result"
    }
   ],
   "source": [
    "dic = [(1,1), (1,2), (0,3), (0,1), (2,1)]\n",
    "sec = defaultdict(int)\n",
    "for name, id in dic:\n",
    "    sec[name] += id\n",
    "    \n",
    "sec"
   ]
  },
  {
   "cell_type": "markdown",
   "metadata": {},
   "source": [
    "## Tf-idf with Gensim"
   ]
  },
  {
   "cell_type": "markdown",
   "metadata": {},
   "source": [
    "- Tf-idf (term frequency-inverse document frequency) helps determine the most important words in each document.\n",
    "\n",
    "- Each corpus may have shared words beyond just stopwords, and these shared words should be down-weighted in importance.\n",
    "\n",
    "$$\n",
    "W_{i,j}=tf_{i,j} * \\log{\\left(\\frac{N}{df_{i}}\\right)} \n",
    "$$\n",
    "\n",
    "$w_{i,j}=$ tf-idf weight for token i in document j\n",
    "\n",
    "$tf_{i,j}=$number of occurences of token i in document j 【这个数字通常会被归一化(一般是词频除以文章总词数), 以防止它偏向长的文件】\n",
    "\n",
    "$df_{i}=$ number of documents that contain token i\n",
    "\n",
    "$N=$ total number of documents"
   ]
  },
  {
   "cell_type": "code",
   "execution_count": 108,
   "metadata": {
    "collapsed": true
   },
   "outputs": [],
   "source": [
    "from gensim.models.tfidfmodel import TfidfModel"
   ]
  },
  {
   "cell_type": "code",
   "execution_count": 112,
   "metadata": {},
   "outputs": [],
   "source": [
    "# pass bag-of-words model to initialize the tf-idf model\n",
    "tfidf = TfidfModel(corpus)"
   ]
  },
  {
   "cell_type": "code",
   "execution_count": 122,
   "metadata": {},
   "outputs": [
    {
     "data": {
      "text/plain": [
       "[(0, 1), (13, 1), (14, 1), (15, 1), (16, 1), (17, 1), (18, 1), (19, 1)]"
      ]
     },
     "execution_count": 122,
     "metadata": {},
     "output_type": "execute_result"
    }
   ],
   "source": [
    "corpus[2]"
   ]
  },
  {
   "cell_type": "code",
   "execution_count": 123,
   "metadata": {
    "scrolled": true
   },
   "outputs": [
    {
     "data": {
      "text/plain": [
       "[(0, 0.08926151827345048),\n",
       " (13, 0.2418550916450883),\n",
       " (14, 0.3944486650167261),\n",
       " (15, 0.3944486650167261),\n",
       " (16, 0.3944486650167261),\n",
       " (17, 0.3944486650167261),\n",
       " (18, 0.3944486650167261),\n",
       " (19, 0.3944486650167261)]"
      ]
     },
     "execution_count": 123,
     "metadata": {},
     "output_type": "execute_result"
    }
   ],
   "source": [
    "# show token_id and token_weights\n",
    "tfidf[corpus[2]]"
   ]
  },
  {
   "cell_type": "markdown",
   "metadata": {},
   "source": [
    "Above weights can help determine good topics and keywords for a corpus with shared vocabulary."
   ]
  }
 ],
 "metadata": {
  "kernelspec": {
   "display_name": "Python 3",
   "language": "python",
   "name": "python3"
  },
  "language_info": {
   "codemirror_mode": {
    "name": "ipython",
    "version": 3
   },
   "file_extension": ".py",
   "mimetype": "text/x-python",
   "name": "python",
   "nbconvert_exporter": "python",
   "pygments_lexer": "ipython3",
   "version": "3.5.2"
  },
  "toc": {
   "base_numbering": 1,
   "nav_menu": {},
   "number_sections": true,
   "sideBar": true,
   "skip_h1_title": false,
   "title_cell": "Table of Contents",
   "title_sidebar": "Contents",
   "toc_cell": true,
   "toc_position": {},
   "toc_section_display": true,
   "toc_window_display": false
  }
 },
 "nbformat": 4,
 "nbformat_minor": 2
}
