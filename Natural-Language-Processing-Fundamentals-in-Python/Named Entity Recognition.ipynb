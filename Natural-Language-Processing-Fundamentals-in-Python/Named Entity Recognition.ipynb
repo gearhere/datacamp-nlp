{
 "cells": [
  {
   "cell_type": "markdown",
   "metadata": {
    "toc": true
   },
   "source": [
    "<h1>Table of Contents<span class=\"tocSkip\"></span></h1>\n",
    "<div class=\"toc\"><ul class=\"toc-item\"><li><span><a href=\"#ENR-with-NLTK\" data-toc-modified-id=\"ENR-with-NLTK-1\"><span class=\"toc-item-num\">1&nbsp;&nbsp;</span>ENR with NLTK</a></span></li><li><span><a href=\"#Introduction-to-SpaCy\" data-toc-modified-id=\"Introduction-to-SpaCy-2\"><span class=\"toc-item-num\">2&nbsp;&nbsp;</span>Introduction to SpaCy</a></span></li></ul></div>"
   ]
  },
  {
   "cell_type": "markdown",
   "metadata": {},
   "source": [
    "Important named entities in the text: people, place, organizations, Dates, states, works of art\n",
    "\n",
    "👉 who? what? when? where"
   ]
  },
  {
   "cell_type": "markdown",
   "metadata": {},
   "source": [
    "## ENR with NLTK"
   ]
  },
  {
   "cell_type": "markdown",
   "metadata": {},
   "source": [
    "**nltk and the Stanford CoreNLP Library**"
   ]
  },
  {
   "cell_type": "code",
   "execution_count": 41,
   "metadata": {
    "collapsed": true
   },
   "outputs": [],
   "source": [
    "import nltk\n",
    "from collections import defaultdict\n",
    "from matplotlib import pyplot as plt"
   ]
  },
  {
   "cell_type": "code",
   "execution_count": 170,
   "metadata": {},
   "outputs": [
    {
     "data": {
      "text/plain": [
       "[[('Tim', 'NNP'),\n",
       "  ('Cook', 'NNP'),\n",
       "  ('had', 'VBD'),\n",
       "  ('Jobs', 'NNP'),\n",
       "  ('think', 'IN'),\n",
       "  ('he', 'PRP'),\n",
       "  ('should', 'MD'),\n",
       "  ('innovate', 'VB'),\n",
       "  ('more', 'JJR'),\n",
       "  ('things', 'NNS'),\n",
       "  ('.', '.')],\n",
       " [('Amazon', 'NNP'),\n",
       "  ('makes', 'VBZ'),\n",
       "  ('Apple', 'NNP'),\n",
       "  ('and', 'CC'),\n",
       "  ('Uber', 'NNP'),\n",
       "  ('believe', 'VBP'),\n",
       "  ('we', 'PRP'),\n",
       "  ('are', 'VBP'),\n",
       "  ('the', 'DT'),\n",
       "  ('evil', 'JJ'),\n",
       "  ('ones', 'NNS'),\n",
       "  ('?', '.')],\n",
       " [('Since', 'IN'),\n",
       "  ('Google', 'NNP'),\n",
       "  ('compete', 'NN'),\n",
       "  ('with', 'IN'),\n",
       "  ('Huawei', 'NNP'),\n",
       "  (',', ','),\n",
       "  ('China', 'NNP'),\n",
       "  ('is', 'VBZ'),\n",
       "  ('becoming', 'VBG'),\n",
       "  ('stronger', 'JJR'),\n",
       "  ('.', '.')]]"
      ]
     },
     "execution_count": 170,
     "metadata": {},
     "output_type": "execute_result"
    }
   ],
   "source": [
    "sentences = ['Tim Cook had Jobs think he should innovate more things.',\n",
    "             'Amazon makes Apple and Uber believe we are the evil ones?',\n",
    "            'Since Google compete with Huawei, China is becoming stronger.'\n",
    "            ]\n",
    "sentence = '''Tim Cook had Jobs and Amazon makes Apple and Uber'''\n",
    "token_sentences = [nltk.word_tokenize(sent) for sent in sentences]\n",
    "pos_sentences = [nltk.pos_tag(sent) for sent in token_sentences]\n",
    "\n",
    "tagged_sent = nltk.pos_tag(nltk.word_tokenize(sentence))\n",
    "\n",
    "pos_sentences[:3]"
   ]
  },
  {
   "cell_type": "code",
   "execution_count": 171,
   "metadata": {
    "scrolled": false
   },
   "outputs": [
    {
     "name": "stdout",
     "output_type": "stream",
     "text": [
      "(S\n",
      "  (PERSON Tim/NNP)\n",
      "  (PERSON Cook/NNP)\n",
      "  had/VBD\n",
      "  (PERSON Jobs/NNP)\n",
      "  and/CC\n",
      "  (ORGANIZATION Amazon/NNP)\n",
      "  makes/VBZ\n",
      "  (PERSON Apple/NNP)\n",
      "  and/CC\n",
      "  Uber/NNP)\n"
     ]
    }
   ],
   "source": [
    "print(nltk.ne_chunk(tagged_sent))"
   ]
  },
  {
   "cell_type": "markdown",
   "metadata": {},
   "source": [
    "**没弄明白的代码**"
   ]
  },
  {
   "cell_type": "markdown",
   "metadata": {},
   "source": [
    "Exercise 1"
   ]
  },
  {
   "cell_type": "code",
   "execution_count": 172,
   "metadata": {},
   "outputs": [],
   "source": [
    "# Create the named entity chunks: chunked_sentences\n",
    "chunked_sentences = nltk.ne_chunk_sents(pos_sentences, binary=True)"
   ]
  },
  {
   "cell_type": "code",
   "execution_count": 173,
   "metadata": {},
   "outputs": [
    {
     "name": "stdout",
     "output_type": "stream",
     "text": [
      "(NE Tim/NNP Cook/NNP)\n",
      "(NE Jobs/NNP)\n",
      "(NE Amazon/NNP)\n",
      "(NE Apple/NNP)\n",
      "(NE Google/NNP)\n",
      "(NE Huawei/NNP)\n",
      "(NE China/NNP)\n"
     ]
    }
   ],
   "source": [
    "# Test for stems of the tree with 'NE' tags\n",
    "for sent in chunked_sentences:\n",
    "    for chunk in sent:\n",
    "        if hasattr(chunk, \"label\") and chunk.label() == 'NE':\n",
    "            print(chunk)"
   ]
  },
  {
   "cell_type": "markdown",
   "metadata": {},
   "source": [
    "Exercise 2"
   ]
  },
  {
   "cell_type": "code",
   "execution_count": 184,
   "metadata": {},
   "outputs": [
    {
     "data": {
      "image/png": "[encoded data removed]",
      "text/plain": [
       "<Figure size 432x288 with 1 Axes>"
      ]
     },
     "metadata": {},
     "output_type": "display_data"
    }
   ],
   "source": [
    "# Create the named entity chunks: chunked_sentences\n",
    "chunked_sentences = nltk.ne_chunk_sents(pos_sentences, binary=False)\n",
    "\n",
    "# Create the defaultdict: ner_categories\n",
    "ner_categories = defaultdict(int)\n",
    "\n",
    "# Create the nested for loop\n",
    "for sent in chunked_sentences:\n",
    "    for chunk in sent:\n",
    "        if hasattr(chunk, 'label'):\n",
    "            ner_categories[chunk.label()] += 1\n",
    "\n",
    "# Create a list from the dictionary keys for the chart labels: labels\n",
    "labels = list(ner_categories.keys())\n",
    "\n",
    "# Create a list of the values: values\n",
    "values = [ner_categories.get(l) for l in labels]\n",
    "\n",
    "# Create the pie chart\n",
    "plt.pie(values, labels=labels, autopct='%1.1f%%', startangle=140)\n",
    "\n",
    "# Display the chart\n",
    "plt.show()"
   ]
  },
  {
   "cell_type": "markdown",
   "metadata": {},
   "source": [
    "hasattr() 函数"
   ]
  },
  {
   "cell_type": "markdown",
   "metadata": {},
   "source": [
    "## Introduction to SpaCy"
   ]
  }
 ],
 "metadata": {
  "kernelspec": {
   "display_name": "Python 3",
   "language": "python",
   "name": "python3"
  },
  "language_info": {
   "codemirror_mode": {
    "name": "ipython",
    "version": 3
   },
   "file_extension": ".py",
   "mimetype": "text/x-python",
   "name": "python",
   "nbconvert_exporter": "python",
   "pygments_lexer": "ipython3",
   "version": "3.5.2"
  },
  "toc": {
   "base_numbering": 1,
   "nav_menu": {},
   "number_sections": true,
   "sideBar": true,
   "skip_h1_title": false,
   "title_cell": "Table of Contents",
   "title_sidebar": "Contents",
   "toc_cell": true,
   "toc_position": {},
   "toc_section_display": true,
   "toc_window_display": false
  }
 },
 "nbformat": 4,
 "nbformat_minor": 2
}
